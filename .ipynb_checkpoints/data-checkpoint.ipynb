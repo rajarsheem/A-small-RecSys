{
 "cells": [
  {
   "cell_type": "code",
   "execution_count": 27,
   "metadata": {
    "collapsed": true
   },
   "outputs": [],
   "source": [
    "f1 = open('data/ratings.csv').read().splitlines()\n",
    "f1 = [r.split(',') for r in f1]\n",
    "f2 = open('data/movies.csv').read().splitlines()\n",
    "f2 = [a[:a.index(',')] + '\\t' + a[a.index(',') + 1:a.rindex(',')] + '\\t' + a[a.rindex(',') + 1:] for a in f2]\n",
    "f2 = [r.split('\\t') for r in f2]\n",
    "f3 = open('data/tag_relevance.dat').read().splitlines()\n",
    "f3 = [r.split('\\t') for r in f3]"
   ]
  },
  {
   "cell_type": "code",
   "execution_count": 11,
   "metadata": {
    "collapsed": false
   },
   "outputs": [
    {
     "name": "stdout",
     "output_type": "stream",
     "text": [
      "8093\n"
     ]
    }
   ],
   "source": [
    "movie1 = list(set([m[1] for m in f1]))\n",
    "movies_genre = {r[0]: r[2] for r in f2}\n",
    "movie2 = list(movies_genre.keys())\n",
    "movie1 = set(movie2).intersection(movie1)\n",
    "movie2 = [r[0] for r in f3]\n",
    "movie = list(movie1.intersection(movie2))\n",
    "movie = list(map(int,movie))\n",
    "m_hash = [0 for r in range(max(movie)+1)]\n",
    "for r in movie:\n",
    "    m_hash[r]=movie.index(r)"
   ]
  },
  {
   "cell_type": "code",
   "execution_count": 17,
   "metadata": {
    "collapsed": true
   },
   "outputs": [],
   "source": [
    "f1 = [r for r in f1 if m_hash[int(r[1])] != 0]\n",
    "f2 = [r for r in f2 if m_hash[int(r[0])] != 0]\n",
    "f3 = [r for r in f3 if m_hash[int(r[0])] != 0]"
   ]
  },
  {
   "cell_type": "code",
   "execution_count": 18,
   "metadata": {
    "collapsed": true
   },
   "outputs": [],
   "source": [
    "genres = set()\n",
    "for r in f2:\n",
    "    genres.update(r[2].split('|'))\n",
    "genres = list(genres)\n",
    "movies_genre = [[0 for r in genres] for m in movie] \n",
    "for r in f2:\n",
    "    t = [0 if g not in r[2] else 1 for g in genres]\n",
    "    movies_genre[movie.index(r[0])] = t\n",
    "\n",
    "users = set()\n",
    "for r in f1:\n",
    "    users.add(r[0])\n",
    "\n",
    "users = list(users)\n",
    "\n",
    "ratings = [['-1' for x in users] for y in movie]\n",
    "for r in f1:\n",
    "    ratings[movie.index(r[1])][users.index(r[0])] = r[2]"
   ]
  },
  {
   "cell_type": "code",
   "execution_count": 26,
   "metadata": {
    "collapsed": false
   },
   "outputs": [
    {
     "name": "stdout",
     "output_type": "stream",
     "text": [
      "1128\n"
     ]
    }
   ],
   "source": [
    "tagmatrix = [[0 for x in range(1129)] for y in movie]\n",
    "for r in f3:\n",
    "    tagmatrix[][]"
   ]
  },
  {
   "cell_type": "code",
   "execution_count": 7,
   "metadata": {
    "collapsed": true
   },
   "outputs": [],
   "source": [
    "import numpy as np\n",
    "np.savez('data.npz',movielist=movie,ratingmatrix=ratings,genrematrix=movies_genre,userlist=users)"
   ]
  },
  {
   "cell_type": "code",
   "execution_count": 2,
   "metadata": {
    "collapsed": true
   },
   "outputs": [],
   "source": [
    "with open('data/tag_relevance.dat') as f:\n",
    "    for row in f:\n",
    "        t = row.split('\\t')"
   ]
  },
  {
   "cell_type": "code",
   "execution_count": null,
   "metadata": {
    "collapsed": true
   },
   "outputs": [],
   "source": []
  }
 ],
 "metadata": {
  "kernelspec": {
   "display_name": "Python 2",
   "language": "python",
   "name": "python2"
  },
  "language_info": {
   "codemirror_mode": {
    "name": "ipython",
    "version": 2
   },
   "file_extension": ".py",
   "mimetype": "text/x-python",
   "name": "python",
   "nbconvert_exporter": "python",
   "pygments_lexer": "ipython2",
   "version": "2.7.6"
  }
 },
 "nbformat": 4,
 "nbformat_minor": 0
}
