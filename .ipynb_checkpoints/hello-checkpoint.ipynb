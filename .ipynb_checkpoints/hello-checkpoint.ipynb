{
 "cells": [
  {
   "cell_type": "code",
   "execution_count": 1,
   "metadata": {
    "collapsed": false
   },
   "outputs": [],
   "source": [
    "import numpy as np\n",
    "data = np.load('data.npz')\n",
    "users = data['userlist'].astype(np.int)\n",
    "movies = data['movielist'].astype(np.int)\n",
    "ratings = (data['ratingmatrix'].astype(np.float)).T\n",
    "moviegenre = data['genrematrix'].astype(np.int)\n",
    "tagmatrix = data['tagmatrix'].astype(np.float)\n",
    "# tagmatrix = np.multiply(tagmatrix,100)"
   ]
  },
  {
   "cell_type": "code",
   "execution_count": 2,
   "metadata": {
    "collapsed": false
   },
   "outputs": [],
   "source": [
    "from sklearn.utils.extmath import randomized_svd\n",
    "U,s,V = randomized_svd(tagmatrix, n_components=500,n_iter=20,random_state=None)"
   ]
  },
  {
   "cell_type": "code",
   "execution_count": 3,
   "metadata": {
    "collapsed": false
   },
   "outputs": [],
   "source": [
    "S = np.zeros((500,500))\n",
    "np.fill_diagonal(S,s)"
   ]
  },
  {
   "cell_type": "code",
   "execution_count": 4,
   "metadata": {
    "collapsed": false
   },
   "outputs": [],
   "source": [
    "import scipy\n",
    "from scipy.spatial import distance\n",
    "def dist(u1, u2):\n",
    "    c1,c2=[],[]\n",
    "    for x,y in zip(u1,u2):\n",
    "        if x!=-1.0 and y!=-1.0:\n",
    "            c1.append(x)\n",
    "            c2.append(y)\n",
    "    r=0 if not c1 else distance.euclidean(c1,c2)\n",
    "    return r"
   ]
  },
  {
   "cell_type": "code",
   "execution_count": 5,
   "metadata": {
    "collapsed": false
   },
   "outputs": [],
   "source": [
    "from sklearn import preprocessing \n",
    "user = 10\n",
    "d=np.array([dist(ratings[user],y) for y in ratings])\n",
    "d = 1-d/max(d)\n"
   ]
  },
  {
   "cell_type": "code",
   "execution_count": 6,
   "metadata": {
    "collapsed": false
   },
   "outputs": [
    {
     "name": "stdout",
     "output_type": "stream",
     "text": [
      "[203, 251, 773, 1350, 1438]\n"
     ]
    }
   ],
   "source": [
    "from sklearn import preprocessing\n",
    "user_neighbors=np.where(d>0.7)[0]\n",
    "user_neighbors=user_neighbors[user_neighbors!=user]\n",
    "neighbor_d = d[user_neighbors]\n",
    "nonrated = np.where(ratings[user]==-1.0)[0]\n",
    "nonrated_r = []\n",
    "for i in nonrated:\n",
    "    n = [x for x in user_neighbors if ratings[x][i]!=-1.0]\n",
    "    n_d = d[n]\n",
    "    if not n:\n",
    "        nonrated_r.append(-1.0)\n",
    "    else:\n",
    "        rate = [ratings[x][i] for x in n]\n",
    "        p = np.dot(rate, n_d) / sum(n_d)\n",
    "        nonrated_r.append(p)\n",
    "    \n",
    "nonrated = [y for (x,y) in sorted(zip(nonrated_r,nonrated)) if x!=-1.0]\n",
    "print(nonrated[:5])"
   ]
  },
  {
   "cell_type": "code",
   "execution_count": 12,
   "metadata": {
    "collapsed": false
   },
   "outputs": [],
   "source": [
    "rated = np.where(ratings[user]!=-1.0)[0]\n",
    "rate = ratings[user][rated]\n",
    "U = np.dot(U,S)\n",
    "Uu = U[rated]\n",
    "mean = sum((Uu.T * rate).T)\n",
    "item_sim = [distance.euclidean(x,mean) for x in U]\n",
    "item_sim = np.array([x/max(item_sim) for x in item_sim])\n",
    "item_sim = item_sim[nonrated]\n",
    "nonrated2 = [y for (x,y) in sorted(zip(item_sim,nonrated))]"
   ]
  },
  {
   "cell_type": "code",
   "execution_count": 15,
   "metadata": {
    "collapsed": false
   },
   "outputs": [
    {
     "name": "stdout",
     "output_type": "stream",
     "text": [
      "[1880 2773 1279 2174 3500 1880 2773 1279 2174 3500]\n"
     ]
    }
   ],
   "source": [
    "recommended = np.concatenate((nonrated[:5], nonrated2[:5]))\n",
    "print(recommended)"
   ]
  },
  {
   "cell_type": "code",
   "execution_count": null,
   "metadata": {
    "collapsed": true
   },
   "outputs": [],
   "source": []
  }
 ],
 "metadata": {
  "kernelspec": {
   "display_name": "Python 3",
   "language": "python",
   "name": "python3"
  },
  "language_info": {
   "codemirror_mode": {
    "name": "ipython",
    "version": 3
   },
   "file_extension": ".py",
   "mimetype": "text/x-python",
   "name": "python",
   "nbconvert_exporter": "python",
   "pygments_lexer": "ipython3",
   "version": "3.4.3"
  }
 },
 "nbformat": 4,
 "nbformat_minor": 0
}
