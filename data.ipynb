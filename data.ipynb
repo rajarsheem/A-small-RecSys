{
 "cells": [
  {
   "cell_type": "code",
   "execution_count": 35,
   "metadata": {
    "collapsed": true
   },
   "outputs": [],
   "source": [
    "f1 = open('data/ratings.csv').read().splitlines()\n",
    "f1 = [r.split(',') for r in f1]\n",
    "f2 = open('data/movies.csv').read().splitlines()\n",
    "f2 = [a[:a.index(',')] + '\\t' + a[a.index(',') + 1:a.rindex(',')] + '\\t' + a[a.rindex(',') + 1:] for a in f2]\n",
    "f2 = [r.split('\\t') for r in f2]\n",
    "f3 = open('data/tag_relevance.dat').read().splitlines()\n",
    "f3 = [r.split('\\t') for r in f3]"
   ]
  },
  {
   "cell_type": "code",
   "execution_count": 36,
   "metadata": {
    "collapsed": false
   },
   "outputs": [
    {
     "name": "stdout",
     "output_type": "stream",
     "text": [
      "10325\n",
      "8093\n",
      "105339\n"
     ]
    }
   ],
   "source": [
    "movie1 = list(set([m[1] for m in f1]))\n",
    "print(len(movie1))\n",
    "movies_genre = {r[0]: r[2] for r in f2}\n",
    "movie2 = list(movies_genre.keys())\n",
    "movie1 = set(movie2).intersection(movie1)\n",
    "movie2 = [r[0] for r in f3]\n",
    "movie = list(movie1.intersection(movie2))\n",
    "moviei = list(map(int,movie))\n",
    "m_hash = [-1 for r in range(max(moviei)+1)]\n",
    "for r in moviei:\n",
    "    m_hash[r]= moviei.index(r)\n",
    "l = len(moviei)\n",
    "print(len(moviei))\n",
    "print(len(f1))"
   ]
  },
  {
   "cell_type": "code",
   "execution_count": 37,
   "metadata": {
    "collapsed": false
   },
   "outputs": [
    {
     "name": "stdout",
     "output_type": "stream",
     "text": [
      "105339\n",
      "84742\n"
     ]
    }
   ],
   "source": [
    "print(len(f1))\n",
    "f1 = [r for r in f1 if int(r[1])<l and m_hash[int(r[1])] != -1]\n",
    "f2 = [r for r in f2 if int(r[0])<l and m_hash[int(r[0])] != -1]\n",
    "f3 = [r for r in f3 if int(r[0])<l and m_hash[int(r[0])] != -1]\n",
    "print(len(f1))"
   ]
  },
  {
   "cell_type": "code",
   "execution_count": 38,
   "metadata": {
    "collapsed": true
   },
   "outputs": [],
   "source": [
    "genres = set()\n",
    "for r in f2:\n",
    "    genres.update(r[2].split('|'))\n",
    "genres = list(genres)\n",
    "movies_genre = [[0 for r in genres] for m in movie] \n",
    "for r in f2:\n",
    "    t = [0 if g not in r[2] else 1 for g in genres]\n",
    "    movies_genre[movie.index(r[0])] = t\n",
    "\n",
    "users = set()\n",
    "for r in f1:\n",
    "    users.add(r[0])\n",
    "\n",
    "users = list(users)\n",
    "\n",
    "ratings = [['-1' for x in users] for y in movie]\n",
    "for r in f1:\n",
    "    ratings[m_hash[int(r[1])]][users.index(r[0])] = r[2]"
   ]
  },
  {
   "cell_type": "code",
   "execution_count": 39,
   "metadata": {
    "collapsed": true
   },
   "outputs": [],
   "source": [
    "tagmatrix = [[0 for x in range(1129)] for y in movie]\n",
    "for r in f3:\n",
    "    tagmatrix[m_hash[int(r[0])]][int(r[1])] = r[2]"
   ]
  },
  {
   "cell_type": "code",
   "execution_count": 40,
   "metadata": {
    "collapsed": true
   },
   "outputs": [],
   "source": [
    "import numpy as np\n",
    "np.savez('data.npz',movielist=movie,ratingmatrix=ratings,genrematrix=movies_genre,userlist=users,tagmatrix=tagmatrix)"
   ]
  }
 ],
 "metadata": {
  "kernelspec": {
   "display_name": "Python 3",
   "language": "python",
   "name": "python3"
  },
  "language_info": {
   "codemirror_mode": {
    "name": "ipython",
    "version": 3
   },
   "file_extension": ".py",
   "mimetype": "text/x-python",
   "name": "python",
   "nbconvert_exporter": "python",
   "pygments_lexer": "ipython3",
   "version": "3.4.3"
  }
 },
 "nbformat": 4,
 "nbformat_minor": 0
}
