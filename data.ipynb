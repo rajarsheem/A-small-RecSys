{
 "cells": [
  {
   "cell_type": "code",
   "execution_count": 54,
   "metadata": {
    "collapsed": true
   },
   "outputs": [],
   "source": [
    "f1 = open('data/ratings.csv').read().splitlines()\n",
    "f1 = [r.split(',') for r in f1]\n",
    "f2 = open('data/movies.csv').read().splitlines()\n",
    "f2 = [a[:a.index(',')] + '\\t' + a[a.index(',') + 1:a.rindex(',')] + '\\t' + a[a.rindex(',') + 1:] for a in f2]\n",
    "f2 = [r.split('\\t') for r in f2]\n",
    "f3 = open('data/tag_relevance.dat').read().splitlines()\n",
    "f3 = [r.split('\\t') for r in f3]"
   ]
  },
  {
   "cell_type": "code",
   "execution_count": 55,
   "metadata": {
    "collapsed": false
   },
   "outputs": [],
   "source": [
    "movie1 = list(set([m[1] for m in f1]))\n",
    "movies_genre = {r[0]: r[2] for r in f2}\n",
    "movie2 = list(movies_genre.keys())\n",
    "movie1 = set(movie2).intersection(movie1)\n",
    "movie2 = [r[0] for r in f3]\n",
    "movie = list(movie1.intersection(movie2))\n",
    "moviei = list(map(int,movie))\n",
    "m_hash = [0 for r in range(max(moviei)+1)]\n",
    "for r in moviei:\n",
    "    m_hash[r]= moviei.index(r)\n",
    "l = len(movie)"
   ]
  },
  {
   "cell_type": "code",
   "execution_count": 59,
   "metadata": {
    "collapsed": false
   },
   "outputs": [
    {
     "name": "stdout",
     "output_type": "stream",
     "text": [
      "84742\n"
     ]
    }
   ],
   "source": [
    "f1 = [r for r in f1 if int(r[1])<l and m_hash[int(r[1])] != 0]\n",
    "f2 = [r for r in f2 if int(r[0])<l and m_hash[int(r[0])] != 0]\n",
    "f3 = [r for r in f3 if int(r[0])<l and m_hash[int(r[0])] != 0]\n",
    "print(len(f1))"
   ]
  },
  {
   "cell_type": "code",
   "execution_count": 45,
   "metadata": {
    "collapsed": false
   },
   "outputs": [
    {
     "ename": "ValueError",
     "evalue": "'1' is not in list",
     "output_type": "error",
     "traceback": [
      "\u001b[1;31m---------------------------------------------------------------------------\u001b[0m",
      "\u001b[1;31mValueError\u001b[0m                                Traceback (most recent call last)",
      "\u001b[1;32m<ipython-input-45-5c9676fe935d>\u001b[0m in \u001b[0;36m<module>\u001b[1;34m()\u001b[0m\n\u001b[0;32m      6\u001b[0m \u001b[1;32mfor\u001b[0m \u001b[0mr\u001b[0m \u001b[1;32min\u001b[0m \u001b[0mf2\u001b[0m\u001b[1;33m:\u001b[0m\u001b[1;33m\u001b[0m\u001b[0m\n\u001b[0;32m      7\u001b[0m     \u001b[0mt\u001b[0m \u001b[1;33m=\u001b[0m \u001b[1;33m[\u001b[0m\u001b[1;36m0\u001b[0m \u001b[1;32mif\u001b[0m \u001b[0mg\u001b[0m \u001b[1;32mnot\u001b[0m \u001b[1;32min\u001b[0m \u001b[0mr\u001b[0m\u001b[1;33m[\u001b[0m\u001b[1;36m2\u001b[0m\u001b[1;33m]\u001b[0m \u001b[1;32melse\u001b[0m \u001b[1;36m1\u001b[0m \u001b[1;32mfor\u001b[0m \u001b[0mg\u001b[0m \u001b[1;32min\u001b[0m \u001b[0mgenres\u001b[0m\u001b[1;33m]\u001b[0m\u001b[1;33m\u001b[0m\u001b[0m\n\u001b[1;32m----> 8\u001b[1;33m     \u001b[0mmovies_genre\u001b[0m\u001b[1;33m[\u001b[0m\u001b[0mmovie\u001b[0m\u001b[1;33m.\u001b[0m\u001b[0mindex\u001b[0m\u001b[1;33m(\u001b[0m\u001b[0mr\u001b[0m\u001b[1;33m[\u001b[0m\u001b[1;36m0\u001b[0m\u001b[1;33m]\u001b[0m\u001b[1;33m)\u001b[0m\u001b[1;33m]\u001b[0m \u001b[1;33m=\u001b[0m \u001b[0mt\u001b[0m\u001b[1;33m\u001b[0m\u001b[0m\n\u001b[0m\u001b[0;32m      9\u001b[0m \u001b[1;33m\u001b[0m\u001b[0m\n\u001b[0;32m     10\u001b[0m \u001b[0musers\u001b[0m \u001b[1;33m=\u001b[0m \u001b[0mset\u001b[0m\u001b[1;33m(\u001b[0m\u001b[1;33m)\u001b[0m\u001b[1;33m\u001b[0m\u001b[0m\n",
      "\u001b[1;31mValueError\u001b[0m: '1' is not in list"
     ]
    }
   ],
   "source": [
    "genres = set()\n",
    "for r in f2:\n",
    "    genres.update(r[2].split('|'))\n",
    "genres = list(genres)\n",
    "movies_genre = [[0 for r in genres] for m in movie] \n",
    "for r in f2:\n",
    "    t = [0 if g not in r[2] else 1 for g in genres]\n",
    "    movies_genre[movie.index(r[0])] = t\n",
    "\n",
    "users = set()\n",
    "for r in f1:\n",
    "    users.add(r[0])\n",
    "\n",
    "users = list(users)\n",
    "\n",
    "ratings = [['-1' for x in users] for y in movie]\n",
    "for r in f1:\n",
    "    ratings[movie.index(r[1])][users.index(r[0])] = r[2]"
   ]
  },
  {
   "cell_type": "code",
   "execution_count": 26,
   "metadata": {
    "collapsed": false
   },
   "outputs": [
    {
     "name": "stdout",
     "output_type": "stream",
     "text": [
      "1128\n"
     ]
    }
   ],
   "source": [
    "tagmatrix = [[0 for x in range(1129)] for y in movie]\n",
    "for r in f3:\n",
    "    tagmatrix[][]"
   ]
  },
  {
   "cell_type": "code",
   "execution_count": 7,
   "metadata": {
    "collapsed": true
   },
   "outputs": [],
   "source": [
    "import numpy as np\n",
    "np.savez('data.npz',movielist=movie,ratingmatrix=ratings,genrematrix=movies_genre,userlist=users)"
   ]
  },
  {
   "cell_type": "code",
   "execution_count": 2,
   "metadata": {
    "collapsed": true
   },
   "outputs": [],
   "source": [
    "with open('data/tag_relevance.dat') as f:\n",
    "    for row in f:\n",
    "        t = row.split('\\t')"
   ]
  },
  {
   "cell_type": "code",
   "execution_count": null,
   "metadata": {
    "collapsed": true
   },
   "outputs": [],
   "source": []
  }
 ],
 "metadata": {
  "kernelspec": {
   "display_name": "Python 2",
   "language": "python",
   "name": "python2"
  },
  "language_info": {
   "codemirror_mode": {
    "name": "ipython",
    "version": 2
   },
   "file_extension": ".py",
   "mimetype": "text/x-python",
   "name": "python",
   "nbconvert_exporter": "python",
   "pygments_lexer": "ipython2",
   "version": "2.7.6"
  }
 },
 "nbformat": 4,
 "nbformat_minor": 0
}
