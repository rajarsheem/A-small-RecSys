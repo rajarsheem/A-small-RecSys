{
 "cells": [
  {
   "cell_type": "code",
   "execution_count": 1,
   "metadata": {
    "collapsed": false
   },
   "outputs": [],
   "source": [
    "import numpy as np\n",
    "data = np.load('data.npz')\n",
    "users = data['userlist'].astype(np.int)\n",
    "movies = data['movielist'].astype(np.int)\n",
    "ratings = (data['ratingmatrix'].astype(np.float)).T\n",
    "moviegenre = data['genrematrix'].astype(np.int)\n",
    "tagmatrix = data['tagmatrix'].astype(np.float)\n",
    "tagmatrix = np.multiply(tagmatrix,100)"
   ]
  },
  {
   "cell_type": "code",
   "execution_count": 165,
   "metadata": {
    "collapsed": false
   },
   "outputs": [
    {
     "ename": "IndexError",
     "evalue": "index 668 is out of bounds for axis 0 with size 668",
     "output_type": "error",
     "traceback": [
      "\u001b[1;31m---------------------------------------------------------------------------\u001b[0m",
      "\u001b[1;31mIndexError\u001b[0m                                Traceback (most recent call last)",
      "\u001b[1;32m<ipython-input-165-cac151762365>\u001b[0m in \u001b[0;36m<module>\u001b[1;34m()\u001b[0m\n\u001b[0;32m      2\u001b[0m \u001b[1;32mfor\u001b[0m \u001b[0mi\u001b[0m \u001b[1;32min\u001b[0m \u001b[0mrange\u001b[0m\u001b[1;33m(\u001b[0m\u001b[0mlen\u001b[0m\u001b[1;33m(\u001b[0m\u001b[0musers\u001b[0m\u001b[1;33m)\u001b[0m\u001b[1;33m)\u001b[0m\u001b[1;33m:\u001b[0m\u001b[1;33m\u001b[0m\u001b[0m\n\u001b[0;32m      3\u001b[0m     \u001b[1;32mfor\u001b[0m \u001b[0mj\u001b[0m \u001b[1;32min\u001b[0m \u001b[0mrange\u001b[0m\u001b[1;33m(\u001b[0m\u001b[0mlen\u001b[0m\u001b[1;33m(\u001b[0m\u001b[0mmovies\u001b[0m\u001b[1;33m)\u001b[0m\u001b[1;33m)\u001b[0m\u001b[1;33m:\u001b[0m\u001b[1;33m\u001b[0m\u001b[0m\n\u001b[1;32m----> 4\u001b[1;33m         \u001b[1;32mif\u001b[0m \u001b[0mratings\u001b[0m\u001b[1;33m[\u001b[0m\u001b[1;33m:\u001b[0m\u001b[1;33m,\u001b[0m\u001b[0mi\u001b[0m\u001b[1;33m]\u001b[0m\u001b[1;33m[\u001b[0m\u001b[0mj\u001b[0m\u001b[1;33m]\u001b[0m \u001b[1;33m!=\u001b[0m \u001b[1;33m-\u001b[0m\u001b[1;36m1\u001b[0m\u001b[1;33m:\u001b[0m\u001b[1;33m\u001b[0m\u001b[0m\n\u001b[0m\u001b[0;32m      5\u001b[0m             \u001b[0muserprofilematrix\u001b[0m\u001b[1;33m[\u001b[0m\u001b[0mi\u001b[0m\u001b[1;33m]\u001b[0m \u001b[1;33m=\u001b[0m \u001b[0mnp\u001b[0m\u001b[1;33m.\u001b[0m\u001b[0madd\u001b[0m\u001b[1;33m(\u001b[0m\u001b[0muserprofilematrix\u001b[0m\u001b[1;33m[\u001b[0m\u001b[0mi\u001b[0m\u001b[1;33m]\u001b[0m\u001b[1;33m,\u001b[0m \u001b[0mtagmatrix\u001b[0m\u001b[1;33m[\u001b[0m\u001b[0mj\u001b[0m\u001b[1;33m]\u001b[0m\u001b[1;33m)\u001b[0m\u001b[1;33m\u001b[0m\u001b[0m\n",
      "\u001b[1;31mIndexError\u001b[0m: index 668 is out of bounds for axis 0 with size 668"
     ]
    }
   ],
   "source": [
    "userprofilematrix = np.zeros((len(users), tagmatrix.shape[1]))\n",
    "for i in range(len(users)):\n",
    "    for j in range(len(movies)):\n",
    "        if ratings[:,i][j] != -1:\n",
    "            userprofilematrix[i] = np.add(userprofilematrix[i], tagmatrix[j])"
   ]
  },
  {
   "cell_type": "code",
   "execution_count": 3,
   "metadata": {
    "collapsed": false
   },
   "outputs": [],
   "source": [
    "from sklearn.utils.extmath import randomized_svd\n",
    "U,s,V = randomized_svd(userprofilematrix, n_components=500,n_iter=20,random_state=None)"
   ]
  },
  {
   "cell_type": "code",
   "execution_count": 16,
   "metadata": {
    "collapsed": false
   },
   "outputs": [],
   "source": [
    "S = np.zeros((500,500))\n",
    "np.fill_diagonal(S,s)"
   ]
  },
  {
   "cell_type": "code",
   "execution_count": 2,
   "metadata": {
    "collapsed": false
   },
   "outputs": [],
   "source": [
    "import scipy\n",
    "from scipy.spatial import distance\n",
    "def dist(u1, u2):\n",
    "    c1,c2=[],[]\n",
    "    for x,y in zip(u1,u2):\n",
    "        if x!=-1.0 and y!=-1.0:\n",
    "            c1.append(x)\n",
    "            c2.append(y)\n",
    "    r=0 if not c1 else distance.euclidean(c1,c2)\n",
    "    return r"
   ]
  },
  {
   "cell_type": "code",
   "execution_count": 14,
   "metadata": {
    "collapsed": false
   },
   "outputs": [],
   "source": [
    "from sklearn import preprocessing \n",
    "user = 10\n",
    "d=np.array([dist(ratings[user],y) for y in ratings])\n",
    "d = 1-d/max(d)\n"
   ]
  },
  {
   "cell_type": "code",
   "execution_count": 35,
   "metadata": {
    "collapsed": false
   },
   "outputs": [
    {
     "name": "stdout",
     "output_type": "stream",
     "text": [
      "[203, 251, 773, 1350, 1438]\n"
     ]
    }
   ],
   "source": [
    "from sklearn import preprocessing\n",
    "user_neighbors=np.where(d>0.7)[0]\n",
    "user_neighbors=user_neighbors[user_neighbors!=user]\n",
    "neighbor_d = d[user_neighbors]\n",
    "nonrated = np.where(ratings[user]==-1.0)[0]\n",
    "nonrated_r = []\n",
    "for i in nonrated:\n",
    "    n = [x for x in user_neighbors if ratings[x][i]!=-1.0]\n",
    "    n_d = d[n]\n",
    "    if not n:\n",
    "        nonrated_r.append(-1.0)\n",
    "    else:\n",
    "        rate = [ratings[x][i] for x in n]\n",
    "        p = np.dot(rate, n_d) / sum(n_d)\n",
    "        nonrated_r.append(p)\n",
    "    \n",
    "nonrated = [y for (x,y) in sorted(zip(nonrated_r,nonrated)) if x!=-1.0]\n",
    "print(nonrated[:5])"
   ]
  },
  {
   "cell_type": "code",
   "execution_count": null,
   "metadata": {
    "collapsed": true
   },
   "outputs": [],
   "source": []
  }
 ],
 "metadata": {
  "kernelspec": {
   "display_name": "Python 3",
   "language": "python",
   "name": "python3"
  },
  "language_info": {
   "codemirror_mode": {
    "name": "ipython",
    "version": 3
   },
   "file_extension": ".py",
   "mimetype": "text/x-python",
   "name": "python",
   "nbconvert_exporter": "python",
   "pygments_lexer": "ipython3",
   "version": "3.4.3"
  }
 },
 "nbformat": 4,
 "nbformat_minor": 0
}
