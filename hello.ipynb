{
 "cells": [
  {
   "cell_type": "code",
   "execution_count": 1,
   "metadata": {
    "collapsed": false
   },
   "outputs": [],
   "source": [
    "import numpy as np\n",
    "data = np.load('data.npz')\n",
    "users = data['userlist'].astype(np.int)\n",
    "movies = data['movielist'].astype(np.int)\n",
    "ratings = data['ratingmatrix'].astype(np.float)\n",
    "moviegenre = data['genrematrix'].astype(np.int)\n",
    "tagmatrix = data['tagmatrix'].astype(np.float)\n",
    "tagmatrix = np.multiply(tagmatrix,100)"
   ]
  },
  {
   "cell_type": "code",
   "execution_count": 4,
   "metadata": {
    "collapsed": false
   },
   "outputs": [],
   "source": [
    "userprofilematrix = np.zeros((len(users), tagmatrix.shape[1]))\n",
    "for i in range(len(users)):\n",
    "    for j in range(len(movies)):\n",
    "        if ratings[:,i][j] != -1:\n",
    "            userprofilematrix[i] = np.add(userprofilematrix[i], tagmatrix[j])"
   ]
  },
  {
   "cell_type": "code",
   "execution_count": 8,
   "metadata": {
    "collapsed": false
   },
   "outputs": [],
   "source": [
    "from sklearn.utils.extmath import randomized_svd\n",
    "U,s,V = randomized_svd(userprofilematrix, n_components=500,n_iter=20,random_state=None)"
   ]
  },
  {
   "cell_type": "code",
   "execution_count": 16,
   "metadata": {
    "collapsed": false
   },
   "outputs": [],
   "source": [
    "S = np.zeros((500,500))\n",
    "np.fill_diagonal(S,s)"
   ]
  },
  {
   "cell_type": "code",
   "execution_count": null,
   "metadata": {
    "collapsed": true
   },
   "outputs": [],
   "source": []
  }
 ],
 "metadata": {
  "kernelspec": {
   "display_name": "Python 3",
   "language": "python",
   "name": "python3"
  },
  "language_info": {
   "codemirror_mode": {
    "name": "ipython",
    "version": 3
   },
   "file_extension": ".py",
   "mimetype": "text/x-python",
   "name": "python",
   "nbconvert_exporter": "python",
   "pygments_lexer": "ipython3",
   "version": "3.4.3"
  }
 },
 "nbformat": 4,
 "nbformat_minor": 0
}
